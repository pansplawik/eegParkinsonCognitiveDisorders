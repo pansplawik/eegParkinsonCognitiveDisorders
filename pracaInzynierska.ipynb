{
  "nbformat": 4,
  "nbformat_minor": 0,
  "metadata": {
    "colab": {
      "provenance": [],
      "gpuType": "V100",
      "machine_shape": "hm",
      "mount_file_id": "1Szo-64AjzluEasu8zzcDW_-gO3xfmujY",
      "authorship_tag": "ABX9TyOLw9RDLcAZsU8guCA/ByjT",
      "include_colab_link": true
    },
    "kernelspec": {
      "name": "python3",
      "display_name": "Python 3"
    },
    "language_info": {
      "name": "python"
    },
    "gpuClass": "standard"
  },
  "cells": [
    {
      "cell_type": "markdown",
      "metadata": {
        "id": "view-in-github",
        "colab_type": "text"
      },
      "source": [
        "<a href=\"https://colab.research.google.com/github/pansplawik/eegParkinsonCognitiveDisorders/blob/master/pracaInzynierska.ipynb\" target=\"_parent\"><img src=\"https://colab.research.google.com/assets/colab-badge.svg\" alt=\"Open In Colab\"/></a>"
      ]
    },
    {
      "cell_type": "code",
      "execution_count": 2,
      "metadata": {
        "id": "0lrrMlniCLSv",
        "colab": {
          "base_uri": "https://localhost:8080/"
        },
        "outputId": "1f6bd37d-36bb-48c7-b64a-e5870d6cfb59"
      },
      "outputs": [
        {
          "output_type": "stream",
          "name": "stdout",
          "text": [
            "Looking in indexes: https://pypi.org/simple, https://us-python.pkg.dev/colab-wheels/public/simple/\n",
            "Collecting mne\n",
            "  Downloading mne-1.3.1-py3-none-any.whl (7.6 MB)\n",
            "\u001b[2K     \u001b[90m━━━━━━━━━━━━━━━━━━━━━━━━━━━━━━━━━━━━━━━━\u001b[0m \u001b[32m7.6/7.6 MB\u001b[0m \u001b[31m23.2 MB/s\u001b[0m eta \u001b[36m0:00:00\u001b[0m\n",
            "\u001b[?25hRequirement already satisfied: jinja2 in /usr/local/lib/python3.10/dist-packages (from mne) (3.1.2)\n",
            "Requirement already satisfied: scipy>=1.1.0 in /usr/local/lib/python3.10/dist-packages (from mne) (1.10.1)\n",
            "Requirement already satisfied: numpy>=1.15.4 in /usr/local/lib/python3.10/dist-packages (from mne) (1.22.4)\n",
            "Requirement already satisfied: matplotlib in /usr/local/lib/python3.10/dist-packages (from mne) (3.7.1)\n",
            "Requirement already satisfied: packaging in /usr/local/lib/python3.10/dist-packages (from mne) (23.1)\n",
            "Requirement already satisfied: pooch>=1.5 in /usr/local/lib/python3.10/dist-packages (from mne) (1.6.0)\n",
            "Requirement already satisfied: decorator in /usr/local/lib/python3.10/dist-packages (from mne) (4.4.2)\n",
            "Requirement already satisfied: tqdm in /usr/local/lib/python3.10/dist-packages (from mne) (4.65.0)\n",
            "Requirement already satisfied: appdirs>=1.3.0 in /usr/local/lib/python3.10/dist-packages (from pooch>=1.5->mne) (1.4.4)\n",
            "Requirement already satisfied: requests>=2.19.0 in /usr/local/lib/python3.10/dist-packages (from pooch>=1.5->mne) (2.27.1)\n",
            "Requirement already satisfied: MarkupSafe>=2.0 in /usr/local/lib/python3.10/dist-packages (from jinja2->mne) (2.1.2)\n",
            "Requirement already satisfied: cycler>=0.10 in /usr/local/lib/python3.10/dist-packages (from matplotlib->mne) (0.11.0)\n",
            "Requirement already satisfied: python-dateutil>=2.7 in /usr/local/lib/python3.10/dist-packages (from matplotlib->mne) (2.8.2)\n",
            "Requirement already satisfied: pyparsing>=2.3.1 in /usr/local/lib/python3.10/dist-packages (from matplotlib->mne) (3.0.9)\n",
            "Requirement already satisfied: contourpy>=1.0.1 in /usr/local/lib/python3.10/dist-packages (from matplotlib->mne) (1.0.7)\n",
            "Requirement already satisfied: pillow>=6.2.0 in /usr/local/lib/python3.10/dist-packages (from matplotlib->mne) (8.4.0)\n",
            "Requirement already satisfied: fonttools>=4.22.0 in /usr/local/lib/python3.10/dist-packages (from matplotlib->mne) (4.39.3)\n",
            "Requirement already satisfied: kiwisolver>=1.0.1 in /usr/local/lib/python3.10/dist-packages (from matplotlib->mne) (1.4.4)\n",
            "Requirement already satisfied: six>=1.5 in /usr/local/lib/python3.10/dist-packages (from python-dateutil>=2.7->matplotlib->mne) (1.16.0)\n",
            "Requirement already satisfied: urllib3<1.27,>=1.21.1 in /usr/local/lib/python3.10/dist-packages (from requests>=2.19.0->pooch>=1.5->mne) (1.26.15)\n",
            "Requirement already satisfied: certifi>=2017.4.17 in /usr/local/lib/python3.10/dist-packages (from requests>=2.19.0->pooch>=1.5->mne) (2022.12.7)\n",
            "Requirement already satisfied: charset-normalizer~=2.0.0 in /usr/local/lib/python3.10/dist-packages (from requests>=2.19.0->pooch>=1.5->mne) (2.0.12)\n",
            "Requirement already satisfied: idna<4,>=2.5 in /usr/local/lib/python3.10/dist-packages (from requests>=2.19.0->pooch>=1.5->mne) (3.4)\n",
            "Installing collected packages: mne\n",
            "Successfully installed mne-1.3.1\n"
          ]
        }
      ],
      "source": [
        "!pip install mne"
      ]
    },
    {
      "cell_type": "code",
      "source": [
        "import mne\n",
        "import numpy as np\n",
        "import matplotlib.pyplot as plt\n",
        "import os\n",
        "import pandas as pd\n",
        "from sklearn.model_selection import train_test_split\n",
        "from sklearn.svm import SVC\n",
        "import csv"
      ],
      "metadata": {
        "id": "8bZB5mF1GXs_"
      },
      "execution_count": 3,
      "outputs": []
    },
    {
      "cell_type": "code",
      "source": [
        "labels = pd.read_csv('/content/drive/MyDrive/dyplom/dataset.csv', sep=';')\n",
        "path='/content/drive/MyDrive/dyplom/EEG'"
      ],
      "metadata": {
        "id": "a-2GW3L7HmgA"
      },
      "execution_count": 4,
      "outputs": []
    },
    {
      "cell_type": "code",
      "source": [
        "def load_epochs_from_dir(path, labels):\n",
        "    epochs_array = []\n",
        "    for filename, label in zip(os.listdir(path), labels['PD']):\n",
        "        if filename.endswith('.edf'):\n",
        "            filepath = os.path.join(path, filename)\n",
        "            raw = mne.io.read_raw_edf('PD129.edf', preload=True)\n",
        "            annotations = mne.read_annotations('PD129.edf')\n",
        "            raw.set_annotations(annotations)\n",
        "            events = mne.make_fixed_length_events(raw, duration=1.0)\n",
        "            epochs = mne.Epochs(raw, events, tmin=0, tmax=2, baseline=(0,2), detrend=1, reject_by_annotation='break')\n",
        "            epochs_array.append([epochs, label])\n",
        "            del epochs\n",
        "            del raw\n",
        "    return epochs_array\n"
      ],
      "metadata": {
        "id": "LFYrK-G8Hwy5"
      },
      "execution_count": null,
      "outputs": []
    },
    {
      "cell_type": "code",
      "source": [
        "raw = mne.io.read_raw_edf('PD129.edf', preload=True)\n",
        "annotations = mne.read_annotations('PD129.edf')\n",
        "raw.set_annotations(annotations)\n",
        "events = mne.make_fixed_length_events(raw, duration=1.0)\n",
        "epochs = mne.Epochs(raw, events, tmin=0, tmax=2, baseline=(0,2), detrend=1, reject_by_annotation='break')\n",
        "print(annotations.description)"
      ],
      "metadata": {
        "colab": {
          "base_uri": "https://localhost:8080/"
        },
        "id": "k36oh6Noetgu",
        "outputId": "f71c6b23-e42c-4686-84b7-3f1da368aac4"
      },
      "execution_count": 10,
      "outputs": [
        {
          "output_type": "stream",
          "name": "stdout",
          "text": [
            "Extracting EDF parameters from /content/PD129.edf...\n",
            "EDF file detected\n",
            "Setting channel info structure...\n",
            "Creating raw.info structure...\n",
            "Reading 0 ... 755199  =      0.000 ...  1474.998 secs...\n",
            "Not setting metadata\n",
            "1475 matching events found\n",
            "Applying baseline correction (mode: mean)\n",
            "0 projection items activated\n",
            "['Beginning of Recording' 'Montaz:PODLUZNY, Ref Channel Status Set '\n",
            " 'Start Rejestracja' 'Recording Analyzer - QEEG'\n",
            " 'Recording Analyzer - aEEG' 'Recording Analyzer - XLSpike'\n",
            " 'Recording Analyzer - XLEvent / ECG' 'Recording Analyzer - CSA'\n",
            " 'eyes closed' 'break' 'Break start' 'Impedance at 10 kOhm' 'Break end'\n",
            " 'Montaz:Channel Test Referential' 'Montaz:PODLUZNY' 'break' 'Break start'\n",
            " 'Impedance at 10 kOhm' 'Break end' 'break' 'Stop Rejestracja'\n",
            " 'Break start' 'Montaz:PODLUZNY, Ref Channel Status Set '\n",
            " 'Start Rejestracja' 'Break end' 'break' 'Break start'\n",
            " 'Impedance at 10 kOhm' 'Break end' 'Montaz:Channel Test Referential'\n",
            " 'Montaz:PODLUZNY' 'Montaz:UNIPOLARNY' 'Montaz:PODLUZNY' 'Ruch' 'Ruch'\n",
            " 'eyes open' 'eyes closed' 'Ruch' '5.0 Hz' 'stroboscope' 'Off' '10.0 Hz'\n",
            " 'Ruch' 'Off' '15.0 Hz' 'Ruch' 'Off' '20.0 Hz' 'Off' '25.0 Hz' 'Off'\n",
            " '40.0 Hz' 'eyes open' 'Polyka' 'Mowi' 'eyes closed' 'Ruch' 'break'\n",
            " 'Stop Rejestracja' 'Break start'\n",
            " 'Montaz:PODLUZNY, Ref Channel Status Set ' 'Start Rejestracja'\n",
            " 'Break end' 'Ruch' 'break' 'Stop Rejestracja' 'Break start'\n",
            " 'Montaz:PODLUZNY, Ref Channel Status Set ' 'Start Rejestracja'\n",
            " 'Break end' 'Ruch' 'HV' 'Polyka' 'HV 1 Min' 'Ruch' 'HV 2 Min' 'Polyka'\n",
            " 'Ruch' 'Ruch' 'Po HV 30s.' 'Po HV 60s.' 'Po HV 90s.' 'Ruch' 'Ruch'\n",
            " 'eyes open' 'Polyka' 'eyes closed' 'Ruch' 'Ruch' 'Ruch' 'Ruch' 'Ruch'\n",
            " 'Ruch' 'Ruch' 'Miesnie' 'Ruch' 'Ruch' 'Stop Rejestracja' 'End of Study'\n",
            " 'End of signal']\n"
          ]
        }
      ]
    },
    {
      "cell_type": "code",
      "source": [
        "def psds(epochs_array, labels):\n",
        "    data = []\n",
        "    for epochs, label in zip(epochs_array, labels):\n",
        "        epo_spectrum = epochs.compute_psd(method='multitaper', fmin=8, fmax=13, picks='eeg')\n",
        "        psds, freqs = epo_spectrum.get_data(return_freqs=True)\n",
        "        for p in psds:\n",
        "            data.append([p, label])\n",
        "        del psds\n",
        "        del freqs\n",
        "    return data"
      ],
      "metadata": {
        "id": "fQGQh0HcH1FC"
      },
      "execution_count": null,
      "outputs": []
    },
    {
      "cell_type": "code",
      "source": [
        "data = load_epochs_from_dir(path,labels)\n",
        "df = pd.DataFrame(data, columns=['value', 'label'])\n",
        "df.to_csv('data.csv', index=False)"
      ],
      "metadata": {
        "id": "Y2zeLSloH7lT"
      },
      "execution_count": null,
      "outputs": []
    },
    {
      "cell_type": "code",
      "source": [
        "psd = psds([epochs for epochs, label in data], [label for epochs, label in data])\n",
        "df = pd.DataFrame(psd, columns=['psds', 'label'])\n",
        "df.to_csv('psd.csv', index=False)"
      ],
      "metadata": {
        "id": "3s2p99fgQIx1"
      },
      "execution_count": null,
      "outputs": []
    },
    {
      "cell_type": "code",
      "source": [
        "X_train, X_test, y_train, y_test = train_test_split([x[0] for x in psd], [x[1] for x in psd], test_size=0.2, random_state=42)\n",
        "X_train_2d = np.array([x[0] for x in X_train]).reshape(len(X_train), -1)\n",
        "X_test_2d = np.array([x[0] for x in X_test]).reshape(len(X_test), -1)\n",
        "y_train=np.array(y_train)\n",
        "y_train=y_train.transpose()\n",
        "y_test=np.array(y_test)\n",
        "y_test=y_test.transpose()\n",
        "svm = SVC(kernel='linear', C=1, random_state=42)"
      ],
      "metadata": {
        "id": "_1N_sb4dMXDQ"
      },
      "execution_count": null,
      "outputs": []
    },
    {
      "cell_type": "code",
      "source": [
        "print(X_test_2d.shape)\n",
        "print(X_train_2d.shape)"
      ],
      "metadata": {
        "id": "CdmBQY0BnHgr"
      },
      "execution_count": null,
      "outputs": []
    },
    {
      "cell_type": "code",
      "source": [
        "svm.fit(X_train_2d, y_train)"
      ],
      "metadata": {
        "id": "n13Tco4hAq3h"
      },
      "execution_count": null,
      "outputs": []
    },
    {
      "cell_type": "code",
      "source": [
        "y_pred = svm.predict(X_test_2d)"
      ],
      "metadata": {
        "id": "jmJU9L0UAthk"
      },
      "execution_count": null,
      "outputs": []
    },
    {
      "cell_type": "code",
      "source": [
        "from sklearn.metrics import accuracy_score\n",
        "accuracy = accuracy_score(y_test, y_pred)\n",
        "print(\"Accuracy:\", accuracy)\n"
      ],
      "metadata": {
        "id": "4uW7qTuIAv78"
      },
      "execution_count": null,
      "outputs": []
    }
  ]
}