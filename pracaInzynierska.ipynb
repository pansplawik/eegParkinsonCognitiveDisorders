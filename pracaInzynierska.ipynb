{
  "nbformat": 4,
  "nbformat_minor": 0,
  "metadata": {
    "colab": {
      "provenance": [],
      "gpuType": "V100",
      "machine_shape": "hm",
      "mount_file_id": "1Szo-64AjzluEasu8zzcDW_-gO3xfmujY",
      "authorship_tag": "ABX9TyNF4i/V4m97IvGHc7dAAOx7",
      "include_colab_link": true
    },
    "kernelspec": {
      "name": "python3",
      "display_name": "Python 3"
    },
    "language_info": {
      "name": "python"
    },
    "gpuClass": "standard"
  },
  "cells": [
    {
      "cell_type": "markdown",
      "metadata": {
        "id": "view-in-github",
        "colab_type": "text"
      },
      "source": [
        "<a href=\"https://colab.research.google.com/github/pansplawik/eegParkinsonCognitiveDisorders/blob/master/pracaInzynierska.ipynb\" target=\"_parent\"><img src=\"https://colab.research.google.com/assets/colab-badge.svg\" alt=\"Open In Colab\"/></a>"
      ]
    },
    {
      "cell_type": "code",
      "execution_count": null,
      "metadata": {
        "id": "0lrrMlniCLSv"
      },
      "outputs": [],
      "source": [
        "!pip install mne"
      ]
    },
    {
      "cell_type": "code",
      "source": [
        "import mne\n",
        "import numpy as np\n",
        "import matplotlib.pyplot as plt\n",
        "import os\n",
        "import pandas as pd\n",
        "from sklearn.model_selection import train_test_split\n",
        "from sklearn.svm import SVC\n",
        "import csv\n",
        "import joblib"
      ],
      "metadata": {
        "id": "8bZB5mF1GXs_"
      },
      "execution_count": 51,
      "outputs": []
    },
    {
      "cell_type": "code",
      "source": [
        "labels = pd.read_csv('/content/drive/MyDrive/dyplom/dataset.csv', sep=';')\n",
        "path='/content/drive/MyDrive/dyplom/EEG'"
      ],
      "metadata": {
        "id": "a-2GW3L7HmgA"
      },
      "execution_count": 52,
      "outputs": []
    },
    {
      "cell_type": "code",
      "source": [
        "def load_epochs_from_dir(path, labels):\n",
        "    epochs_array = []\n",
        "    for filename, label in zip(os.listdir(path), labels['PD']):\n",
        "        if filename.endswith('.edf'):\n",
        "            filepath = os.path.join(path, filename)\n",
        "            raw = mne.io.read_raw_edf(filepath, preload=True)\n",
        "            events = mne.make_fixed_length_events(raw, duration=1.0)\n",
        "            raw.filter(1, 30, fir_design='firwin')\n",
        "            epochs = mne.Epochs(raw, events, tmin=0, tmax=2, baseline=(0,2), detrend=1,reject_by_annotation='break')\n",
        "            epochs_array.append([epochs, label])\n",
        "            del epochs\n",
        "            del raw\n",
        "    return epochs_array\n"
      ],
      "metadata": {
        "id": "LFYrK-G8Hwy5"
      },
      "execution_count": 56,
      "outputs": []
    },
    {
      "cell_type": "code",
      "source": [
        "def psds(epochs_array, labels):\n",
        "    data = []\n",
        "    for epochs, label in zip(epochs_array, labels):\n",
        "        epo_spectrum = epochs.compute_psd(method='multitaper', fmin=8, fmax=13, picks='eeg')\n",
        "        psds, freqs = epo_spectrum.get_data(return_freqs=True)\n",
        "        for p in psds:\n",
        "            data.append([p, label])\n",
        "        del psds\n",
        "        del freqs\n",
        "    return data"
      ],
      "metadata": {
        "id": "fQGQh0HcH1FC"
      },
      "execution_count": null,
      "outputs": []
    },
    {
      "cell_type": "code",
      "source": [
        "data = load_epochs_from_dir(path,labels)\n",
        "df = pd.DataFrame(data, columns=['psds', 'label'])\n",
        "\n",
        "df.to_csv('data.csv', index=False)"
      ],
      "metadata": {
        "id": "Y2zeLSloH7lT"
      },
      "execution_count": null,
      "outputs": []
    },
    {
      "cell_type": "code",
      "source": [
        "psd = psds([epochs for epochs, label in data], [label for epochs, label in data])"
      ],
      "metadata": {
        "id": "3s2p99fgQIx1"
      },
      "execution_count": null,
      "outputs": []
    },
    {
      "cell_type": "code",
      "source": [
        "df = pd.DataFrame(psd, columns=['psds', 'label'])\n",
        "\n",
        "df.to_csv('psd.csv', index=False)"
      ],
      "metadata": {
        "id": "85i7GWNbXh9J"
      },
      "execution_count": null,
      "outputs": []
    },
    {
      "cell_type": "code",
      "source": [
        "X_train, X_test, y_train, y_test = train_test_split([x[0] for x in psd], [x[1] for x in psd], test_size=0.2, random_state=42)\n",
        "X_train_2d = np.array([x[0] for x in X_train]).reshape(len(X_train), -1)\n",
        "X_test_2d = np.array([x[0] for x in X_test]).reshape(len(X_test), -1)\n",
        "y_train=np.array(y_train)\n",
        "y_train=y_train.transpose()\n",
        "y_test=np.array(y_test)\n",
        "y_test=y_test.transpose()\n",
        "svm = SVC(kernel='linear', C=1, random_state=42)"
      ],
      "metadata": {
        "id": "_1N_sb4dMXDQ"
      },
      "execution_count": null,
      "outputs": []
    },
    {
      "cell_type": "code",
      "source": [
        "print(X_test_2d.shape)\n",
        "print(X_train_2d.shape)"
      ],
      "metadata": {
        "id": "CdmBQY0BnHgr"
      },
      "execution_count": null,
      "outputs": []
    },
    {
      "cell_type": "code",
      "source": [
        "svm.fit(X_train_2d, y_train)"
      ],
      "metadata": {
        "id": "n13Tco4hAq3h"
      },
      "execution_count": null,
      "outputs": []
    },
    {
      "cell_type": "code",
      "source": [
        "y_pred = svm.predict(X_test_2d)"
      ],
      "metadata": {
        "id": "jmJU9L0UAthk"
      },
      "execution_count": null,
      "outputs": []
    },
    {
      "cell_type": "code",
      "source": [
        "from sklearn.metrics import accuracy_score\n",
        "accuracy = accuracy_score(y_test, y_pred)\n",
        "print(\"Accuracy:\", accuracy)\n"
      ],
      "metadata": {
        "id": "4uW7qTuIAv78"
      },
      "execution_count": null,
      "outputs": []
    }
  ]
}