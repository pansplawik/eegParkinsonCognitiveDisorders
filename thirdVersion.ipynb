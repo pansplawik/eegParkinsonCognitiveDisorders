{
  "cells": [
    {
      "cell_type": "markdown",
      "metadata": {
        "id": "view-in-github",
        "colab_type": "text"
      },
      "source": [
        "<a href=\"https://colab.research.google.com/github/pansplawik/eegParkinsonCognitiveDisorders/blob/master/thirdVersion.ipynb\" target=\"_parent\"><img src=\"https://colab.research.google.com/assets/colab-badge.svg\" alt=\"Open In Colab\"/></a>"
      ]
    },
    {
      "cell_type": "code",
      "execution_count": null,
      "metadata": {
        "id": "0lrrMlniCLSv"
      },
      "outputs": [],
      "source": [
        "!pip install mne\n",
        "!pip install autoreject"
      ]
    },
    {
      "cell_type": "markdown",
      "metadata": {
        "id": "97For1s_Fsq4"
      },
      "source": [
        "Importowanie pakietów"
      ]
    },
    {
      "cell_type": "code",
      "execution_count": 2,
      "metadata": {
        "id": "8bZB5mF1GXs_"
      },
      "outputs": [],
      "source": [
        "import mne\n",
        "import numpy as np\n",
        "import matplotlib.pyplot as plt\n",
        "import os\n",
        "import pandas as pd\n",
        "from sklearn.model_selection import train_test_split\n",
        "from sklearn.linear_model import LinearRegression\n",
        "from sklearn.naive_bayes import GaussianNB\n",
        "from sklearn.svm import SVC\n",
        "import csv\n",
        "from sklearn.pipeline import make_pipeline\n",
        "from sklearn.preprocessing import StandardScaler\n",
        "from sklearn.linear_model import LogisticRegression\n",
        "from sklearn.model_selection import cross_val_score\n",
        "from mne.decoding import PSDEstimator\n",
        "from autoreject import AutoReject\n",
        "from mne.decoding import Vectorizer\n",
        "\n",
        "from sklearn.preprocessing import StandardScaler\n",
        "from sklearn.pipeline import make_pipeline\n",
        "from sklearn.model_selection import cross_val_score, train_test_split, GridSearchCV, StratifiedKFold, cross_val_predict\n",
        "from sklearn.metrics import precision_recall_fscore_support, accuracy_score\n",
        "# Models\n",
        "from sklearn import svm\n",
        "from sklearn.discriminant_analysis import LinearDiscriminantAnalysis\n",
        "ar = AutoReject()"
      ]
    },
    {
      "cell_type": "markdown",
      "metadata": {
        "id": "UpF05ty2F_NG"
      },
      "source": [
        "Ściezki plików"
      ]
    },
    {
      "cell_type": "code",
      "execution_count": null,
      "metadata": {
        "id": "a-2GW3L7HmgA"
      },
      "outputs": [],
      "source": [
        "labels = pd.read_csv('/content/drive/MyDrive/dyplom/dataset.csv', sep=';')\n",
        "labels['PD'] = labels['PD'].replace(2, 1)\n",
        "for a in labels['ID']:\n",
        "  print(a)\n",
        "path='/content/drive/MyDrive/dyplom/EEG'"
      ]
    },
    {
      "cell_type": "code",
      "execution_count": 4,
      "metadata": {
        "colab": {
          "base_uri": "https://localhost:8080/"
        },
        "id": "rqmk5j8bBlPj",
        "outputId": "bd2d2f82-fb8b-4e09-c65e-ac6754f2e4e8"
      },
      "outputs": [
        {
          "output_type": "stream",
          "name": "stdout",
          "text": [
            "['PD129.edf', 'PD130.edf', 'PD131.edf', 'PD132.edf', 'PD133.edf', 'PD134.edf', 'PD135.edf', 'PD136.edf', 'PD137.edf', 'PD138.edf', 'PD139.edf', 'PD140.edf', 'PD141.edf', 'PD142.edf', 'PD143.edf', 'PD144.edf', 'PD145.edf', 'PD146.edf', 'PD147.edf', 'PD148.edf', 'PD149.edf', 'PD150.edf', 'PD151.edf', 'PD152.edf', 'PD153.edf', 'PD154.edf', 'PD155.edf', 'PD156.edf', 'PD157.edf', 'PD158.edf', 'PD159.edf', 'PD160.edf', 'PD161.edf', 'PD162.edf', 'PD163.edf', 'PD164.edf', 'PD165.edf', 'PD166.edf', 'PD167.edf', 'PD170.edf', 'PD171.edf', 'PD172.edf', 'PD173.edf', 'PD174.edf', 'PD175.edf', 'PD176.edf', 'PD177.edf', 'PD178.edf', 'PD180.edf', 'PD181.edf', 'PD182.edf', 'PD183.edf', 'PD184.edf', 'PD185.edf', 'PD186.edf', 'PD187.edf', 'PD188.edf', 'PD189.edf', 'PD190.edf', 'PD191.edf', 'PD192.edf', 'PD193.edf', 'PD194.edf', 'PD195.edf', 'PD196.edf', 'PD197.edf', 'PD198.edf', 'PD199.edf', 'PD200.edf', 'PD201.edf', 'PD202.edf', 'PD203.edf', 'PD204.edf', 'PD205.edf', 'PD206.edf', 'PD207.edf', 'PD208.edf', 'PD209.edf', 'PD210.edf', 'PD211.edf', 'PD212.edf', 'PD213.edf', 'PD214.edf', 'PD215.edf', 'PD216.edf', 'PD217.edf', 'PD218.edf', 'PD219.edf', 'PD220.edf', 'PD221.edf', 'PD222.edf', 'PD223.edf', 'PD224.edf', 'PD225.edf', 'PD226.edf', 'PD227.edf', 'PD228.edf', 'PD229.edf', 'PD230.edf', 'PD231.edf', 'PD232.edf', 'PD233.edf', 'PD234.edf', 'PD235.edf', 'PD236.edf', 'PD237.edf', 'PD238.edf', 'PD239.edf']\n"
          ]
        }
      ],
      "source": [
        "filenames = sorted(os.listdir(path))\n",
        "print(filenames)"
      ]
    },
    {
      "cell_type": "markdown",
      "metadata": {
        "id": "m_G_foTfOcTi"
      },
      "source": [
        "Preprocesing danych"
      ]
    },
    {
      "cell_type": "code",
      "execution_count": 5,
      "metadata": {
        "id": "LFYrK-G8Hwy5"
      },
      "outputs": [],
      "source": [
        "def load_epochs_from_dir(path, labels):\n",
        "    epochs_array = []\n",
        "    liczba=1\n",
        "    filenames = sorted(os.listdir(path))\n",
        "    for filename, label in zip(filenames, labels['PD']):\n",
        "        print(filename)\n",
        "        if filename.endswith('.edf'):\n",
        "            filepath = os.path.join(path, filename)\n",
        "            raw = mne.io.read_raw_edf(filepath, preload=True)\n",
        "            raw.info.set_montage('standard_1020')\n",
        "            raw.info['bads'].append('Oz')\n",
        "            annotations = raw.annotations\n",
        "            for i in range(len(annotations)):\n",
        "              if annotations.description[i] == \"break\":\n",
        "                annotations.description[i] = \"BAD\" \n",
        "              elif annotations.description[i] == 'Break end':\n",
        "                annotations.description[i] = \"BAD\"\n",
        "              elif annotations.description[i] == 'Miesnie':\n",
        "                annotations.description[i] = \"BAD\"\n",
        "              elif annotations.description[i] == 'Break start':\n",
        "                annotations.description[i] = \"BAD\"\n",
        "              elif annotations.description[i] == 'Ruch':\n",
        "                annotations.description[i] = \"BAD\"\n",
        "            raw.set_annotations(annotations)\n",
        "            raw.filter(1, 40, fir_design='firwin')\n",
        "            events = mne.make_fixed_length_events(raw, duration=1.0)\n",
        "            reject = dict(     \n",
        "              eeg=82e-6,       \n",
        "              )\n",
        "            epochs = mne.Epochs(raw, events, tmin=0, tmax=2, baseline=(0,2), detrend=1,preload=True,reject_by_annotation='BAD',reject=reject)\n",
        "            epochs_array.append([epochs,label])      \n",
        "            del epochs\n",
        "            del raw\n",
        "            del annotations\n",
        "    return epochs_array\n"
      ]
    },
    {
      "cell_type": "markdown",
      "metadata": {
        "id": "AEQbQnt-OgNT"
      },
      "source": [
        "PSD"
      ]
    },
    {
      "cell_type": "code",
      "execution_count": 6,
      "metadata": {
        "id": "fQGQh0HcH1FC"
      },
      "outputs": [],
      "source": [
        "def psds(epochs_array, labels):\n",
        "    data = []\n",
        "    for epochs, label in zip(epochs_array, labels):\n",
        "      if epochs is not None and len(epochs) > 0:\n",
        "        epo_spectrum = epochs.compute_psd(method='multitaper', fmin=1, fmax=40, picks='eeg')\n",
        "        psds, freqs = epo_spectrum.get_data(return_freqs=True)\n",
        "        for p in psds:\n",
        "          data.append([p, label])\n",
        "        del psds\n",
        "        del freqs\n",
        "        del epo_spectrum\n",
        "    return data"
      ]
    },
    {
      "cell_type": "code",
      "execution_count": null,
      "metadata": {
        "id": "Y2zeLSloH7lT"
      },
      "outputs": [],
      "source": [
        "data = load_epochs_from_dir('/content/drive/MyDrive/dyplom/EEG',labels)\n",
        "df = pd.DataFrame(data, columns=['value', 'label'])\n",
        "df.to_csv('data.csv', index=False)"
      ]
    },
    {
      "cell_type": "code",
      "execution_count": 8,
      "metadata": {
        "id": "3s2p99fgQIx1"
      },
      "outputs": [],
      "source": [
        "psd = psds([epochs for epochs, label in data], [label for epochs, label in data])\n",
        "df = pd.DataFrame(psd, columns=['psds', 'label'])\n",
        "df.to_csv('psd.csv', index=False)"
      ]
    },
    {
      "cell_type": "markdown",
      "metadata": {
        "id": "iedCL3MEOjR-"
      },
      "source": [
        "Tworzenie zestawów"
      ]
    },
    {
      "cell_type": "code",
      "execution_count": 9,
      "metadata": {
        "id": "_1N_sb4dMXDQ"
      },
      "outputs": [],
      "source": [
        "from sklearn.svm import SVC\n",
        "X_train, X_test, y_train, y_test = train_test_split(df['psds'], df['label'], test_size=0.2, random_state=42)\n",
        "X_train_2d = np.array([x[0] for x in X_train]).reshape(len(X_train), -1)\n",
        "X_test_2d = np.array([x[0] for x in X_test]).reshape(len(X_test), -1)\n",
        "y_train=np.array(y_train)\n",
        "y_train=y_train.transpose()\n",
        "y_test=np.array(y_test)\n",
        "y_test=y_test.transpose()"
      ]
    },
    {
      "cell_type": "code",
      "execution_count": 10,
      "metadata": {
        "colab": {
          "base_uri": "https://localhost:8080/"
        },
        "id": "Jw0tezpXmArB",
        "outputId": "75377db9-0d0b-4101-a3ec-bb8a794e05f7"
      },
      "outputs": [
        {
          "output_type": "stream",
          "name": "stdout",
          "text": [
            "SVM Classification Report:\n",
            "              precision    recall  f1-score   support\n",
            "\n",
            "           0       0.69      0.80      0.74      7583\n",
            "        dwsd       0.77      0.64      0.70      7583\n",
            "\n",
            "    accuracy                           0.72     15166\n",
            "   macro avg       0.73      0.72      0.72     15166\n",
            "weighted avg       0.73      0.72      0.72     15166\n",
            "\n",
            "Accuracy of SVM model: 0.7228010022418568\n",
            "Precision: 0.7288013043562509, Recall: 0.7228010022418567, F1-score: 0.7209716261525427\n"
          ]
        }
      ],
      "source": [
        "from sklearn.svm import SVC\n",
        "from sklearn.metrics import classification_report\n",
        "# Tworzenie i trenowanie modelu SVM\n",
        "clf_svm_pip = make_pipeline(Vectorizer(), StandardScaler(), SVC())\n",
        "clf_svm_pip.fit(X_train_2d, y_train)\n",
        "\n",
        "# Przewidywanie etykiet dla danych testowych\n",
        "predictions_svm = clf_svm_pip.predict(X_test_2d)\n",
        "\n",
        "# Raport klasyfikacji\n",
        "report_svm = classification_report(y_test, predictions_svm, target_names=['0', 'dwsd'])\n",
        "print('SVM Classification Report:\\n{}'.format(report_svm))\n",
        "\n",
        "# Dokładność modelu SVM\n",
        "acc_svm = accuracy_score(y_test, predictions_svm)\n",
        "print(\"Accuracy of SVM model: {}\".format(acc_svm))\n",
        "\n",
        "# Obliczanie precyzji, czułości i miary F1\n",
        "precision_svm, recall_svm, fscore_svm, support_svm = precision_recall_fscore_support(y_test, predictions_svm, average='macro')\n",
        "print('Precision: {0}, Recall: {1}, F1-score: {2}'.format(precision_svm, recall_svm, fscore_svm))\n"
      ]
    },
    {
      "cell_type": "markdown",
      "metadata": {
        "id": "S3FoXbNdOoeL"
      },
      "source": [
        "Tworzenie modelu"
      ]
    },
    {
      "cell_type": "code",
      "execution_count": null,
      "metadata": {
        "colab": {
          "base_uri": "https://localhost:8080/"
        },
        "id": "A-VotG8ztGYv",
        "outputId": "89042cba-79fa-4610-8de0-d4d1ef87a74e"
      },
      "outputs": [
        {
          "name": "stdout",
          "output_type": "stream",
          "text": [
            "Accuracy: 0.5\n"
          ]
        }
      ],
      "source": [
        "svr = SVC(kernel='linear', C=1)\n",
        "svr.fit(X_train_2d, y_train)\n",
        "y_pred_test = svr.predict(X_test_2d)\n",
        "from sklearn.metrics import accuracy_score\n",
        "accuracy = accuracy_score(y_test, y_pred_test)\n",
        "print(\"Accuracy:\", accuracy)"
      ]
    },
    {
      "cell_type": "markdown",
      "metadata": {
        "id": "bT_e___POqoJ"
      },
      "source": [
        "Trening i wizualizacja wyników"
      ]
    },
    {
      "cell_type": "code",
      "execution_count": 12,
      "metadata": {
        "colab": {
          "base_uri": "https://localhost:8080/"
        },
        "id": "qWGtg5RqGVc3",
        "outputId": "63e27f7b-75b8-4a8c-da1a-8008b1dae5e1"
      },
      "outputs": [
        {
          "output_type": "execute_result",
          "data": {
            "text/plain": [
              "['oficjalnyPierwszy.joblib']"
            ]
          },
          "metadata": {},
          "execution_count": 12
        }
      ],
      "source": [
        "from joblib import dump, load\n",
        "dump(clf_svm_pip, 'oficjalnyPierwszy.joblib') "
      ]
    }
  ],
  "metadata": {
    "colab": {
      "machine_shape": "hm",
      "provenance": [],
      "mount_file_id": "1Szo-64AjzluEasu8zzcDW_-gO3xfmujY",
      "authorship_tag": "ABX9TyP/4eCEiYLci3LI4oAXSt+i",
      "include_colab_link": true
    },
    "kernelspec": {
      "display_name": "Python 3",
      "name": "python3"
    },
    "language_info": {
      "name": "python"
    }
  },
  "nbformat": 4,
  "nbformat_minor": 0
}